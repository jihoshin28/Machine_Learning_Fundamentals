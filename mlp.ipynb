{
 "cells": [
  {
   "cell_type": "code",
   "execution_count": 1,
   "id": "d706aae8",
   "metadata": {},
   "outputs": [
    {
     "name": "stdout",
     "output_type": "stream",
     "text": [
      "Requirement already satisfied: matplotlib in /Library/Frameworks/Python.framework/Versions/3.13/lib/python3.13/site-packages (3.10.3)\n",
      "Requirement already satisfied: contourpy>=1.0.1 in /Library/Frameworks/Python.framework/Versions/3.13/lib/python3.13/site-packages (from matplotlib) (1.3.2)\n",
      "Requirement already satisfied: cycler>=0.10 in /Library/Frameworks/Python.framework/Versions/3.13/lib/python3.13/site-packages (from matplotlib) (0.12.1)\n",
      "Requirement already satisfied: fonttools>=4.22.0 in /Library/Frameworks/Python.framework/Versions/3.13/lib/python3.13/site-packages (from matplotlib) (4.58.4)\n",
      "Requirement already satisfied: kiwisolver>=1.3.1 in /Library/Frameworks/Python.framework/Versions/3.13/lib/python3.13/site-packages (from matplotlib) (1.4.8)\n",
      "Requirement already satisfied: numpy>=1.23 in /Library/Frameworks/Python.framework/Versions/3.13/lib/python3.13/site-packages (from matplotlib) (2.3.0)\n",
      "Requirement already satisfied: packaging>=20.0 in /Library/Frameworks/Python.framework/Versions/3.13/lib/python3.13/site-packages (from matplotlib) (25.0)\n",
      "Requirement already satisfied: pillow>=8 in /Library/Frameworks/Python.framework/Versions/3.13/lib/python3.13/site-packages (from matplotlib) (11.3.0)\n",
      "Requirement already satisfied: pyparsing>=2.3.1 in /Library/Frameworks/Python.framework/Versions/3.13/lib/python3.13/site-packages (from matplotlib) (3.2.3)\n",
      "Requirement already satisfied: python-dateutil>=2.7 in /Library/Frameworks/Python.framework/Versions/3.13/lib/python3.13/site-packages (from matplotlib) (2.9.0.post0)\n",
      "Requirement already satisfied: six>=1.5 in /Library/Frameworks/Python.framework/Versions/3.13/lib/python3.13/site-packages (from python-dateutil>=2.7->matplotlib) (1.17.0)\n",
      "\n",
      "\u001b[1m[\u001b[0m\u001b[34;49mnotice\u001b[0m\u001b[1;39;49m]\u001b[0m\u001b[39;49m A new release of pip is available: \u001b[0m\u001b[31;49m25.1.1\u001b[0m\u001b[39;49m -> \u001b[0m\u001b[32;49m25.2\u001b[0m\n",
      "\u001b[1m[\u001b[0m\u001b[34;49mnotice\u001b[0m\u001b[1;39;49m]\u001b[0m\u001b[39;49m To update, run: \u001b[0m\u001b[32;49mpip3 install --upgrade pip\u001b[0m\n",
      "Requirement already satisfied: numpy in /Library/Frameworks/Python.framework/Versions/3.13/lib/python3.13/site-packages (2.3.0)\n",
      "\n",
      "\u001b[1m[\u001b[0m\u001b[34;49mnotice\u001b[0m\u001b[1;39;49m]\u001b[0m\u001b[39;49m A new release of pip is available: \u001b[0m\u001b[31;49m25.1.1\u001b[0m\u001b[39;49m -> \u001b[0m\u001b[32;49m25.2\u001b[0m\n",
      "\u001b[1m[\u001b[0m\u001b[34;49mnotice\u001b[0m\u001b[1;39;49m]\u001b[0m\u001b[39;49m To update, run: \u001b[0m\u001b[32;49mpip3 install --upgrade pip\u001b[0m\n"
     ]
    }
   ],
   "source": [
    "!pip3 install matplotlib\n",
    "!pip3 install numpy"
   ]
  },
  {
   "cell_type": "code",
   "execution_count": 2,
   "id": "140cd03e",
   "metadata": {},
   "outputs": [],
   "source": [
    "import math\n",
    "import numpy as np\n",
    "import matplotlib.pyplot as plt\n",
    "%matplotlib inline"
   ]
  },
  {
   "cell_type": "code",
   "execution_count": 3,
   "id": "1aa477fd",
   "metadata": {},
   "outputs": [],
   "source": [
    "def f(x):\n",
    "  return 3*x**2 + 4*x + 5"
   ]
  },
  {
   "cell_type": "code",
   "execution_count": 4,
   "id": "fe420081",
   "metadata": {},
   "outputs": [
    {
     "data": {
      "text/plain": [
       "[<matplotlib.lines.Line2D at 0x12041da90>]"
      ]
     },
     "execution_count": 4,
     "metadata": {},
     "output_type": "execute_result"
    },
    {
     "data": {
      "image/png": "[encoded data removed]",
      "text/plain": [
       "<Figure size 640x480 with 1 Axes>"
      ]
     },
     "metadata": {},
     "output_type": "display_data"
    }
   ],
   "source": [
    "xs = np.arange(-5, 5, 0.25)\n",
    "ys = f(xs)\n",
    "plt.plot(xs, ys)"
   ]
  },
  {
   "cell_type": "code",
   "execution_count": 23,
   "id": "de3e5b61",
   "metadata": {},
   "outputs": [
    {
     "data": {
      "text/plain": [
       "28.000029998054284"
      ]
     },
     "execution_count": 23,
     "metadata": {},
     "output_type": "execute_result"
    }
   ],
   "source": [
    "# derivative function = f(x + h) - f(x) / h\n",
    "h = 0.00001\n",
    "x = 4\n",
    "slope = (f(x + h) - f(x)) / h\n",
    "slope"
   ]
  },
  {
   "cell_type": "code",
   "execution_count": 28,
   "id": "279efcb2",
   "metadata": {},
   "outputs": [
    {
     "name": "stdout",
     "output_type": "stream",
     "text": [
      "17\n",
      "1.0000000010279564\n"
     ]
    }
   ],
   "source": [
    "a = 3\n",
    "x = 4\n",
    "b = 5\n",
    "v1 = a * x + b\n",
    "print(v1)\n",
    "h = 0.000001\n",
    "b += h\n",
    "v2 = a * x + b\n",
    "dvda = (v2 - v1) / h\n",
    "print(dvda)"
   ]
  },
  {
   "cell_type": "code",
   "execution_count": 5,
   "id": "eaa1711a",
   "metadata": {},
   "outputs": [
    {
     "name": "stdout",
     "output_type": "stream",
     "text": [
      "Value(data = 12)\n",
      "Value(data = 17)\n",
      "{Value(data = 3), Value(data = 4)}\n",
      "{Value(data = 12), Value(data = 5)}\n",
      "*\n",
      "+\n"
     ]
    }
   ],
   "source": [
    "class Value:\n",
    "  def __init__(self, data, _children = (), label = \"\"):\n",
    "    self.data = data\n",
    "    self.grad = 0.0\n",
    "    self._backward = lambda: None\n",
    "    self._prev = set(_children)\n",
    "    self.label = label\n",
    "\n",
    "  def __repr__(self):\n",
    "    return f\"Value(data = {self.data})\"\n",
    "    \n",
    "  def __add__(self, other):\n",
    "    other = self.get_other(other)\n",
    "    out = Value(self.data + other.data, (self, other), \"+\")\n",
    "  \n",
    "    def _backward():\n",
    "      self.grad += out.grad\n",
    "      other.grad += out.grad\n",
    "\n",
    "    out._backward = _backward\n",
    "    return out\n",
    "  \n",
    "  def __neg__(self):\n",
    "    return self * -1\n",
    "  \n",
    "  def __sub__(self, other):\n",
    "    return self + (-other)\n",
    "\n",
    "  def __pow__(self, other):\n",
    "    assert isinstance(other, (int, float))\n",
    "    out = Value(self.data ** other, (self, ), f'**{other}')\n",
    "\n",
    "    def _backward():\n",
    "      self.grad += other * (self.data ** (other - 1)) * out.grad\n",
    "\n",
    "    out._backward = _backward\n",
    "\n",
    "    return out\n",
    "  \n",
    "  def __truediv__(self, other):\n",
    "    return self * other**-1\n",
    "  \n",
    "  def __mul__(self, other):\n",
    "    other = self.get_other(other)\n",
    "    out = Value(self.data * other.data, (self, other), \"*\")\n",
    "\n",
    "    def _backward():\n",
    "      self.grad += out.grad * other.data\n",
    "      other.grad += out.grad * self.data\n",
    "\n",
    "    out._backward = _backward\n",
    "\n",
    "    return out\n",
    "  \n",
    "  def __rdiv__(self, other):\n",
    "    return self / other\n",
    "  \n",
    "  def __rmul__(self, other):\n",
    "    return self * other\n",
    "  \n",
    "  def __radd__(self, other):\n",
    "    return self + other\n",
    "  \n",
    "  def tanh(self):\n",
    "    x = self.data\n",
    "    t = (math.exp(2*x) - 1) / (math.exp(2*x) + 1)\n",
    "    out = Value(t, (self, ), \"tanh\")\n",
    "\n",
    "    def _backward():\n",
    "      self.grad += (1 - t ** 2) * out.grad\n",
    "\n",
    "    out._backward = _backward\n",
    "    \n",
    "    return out\n",
    "  \n",
    "  def exp(self):\n",
    "    x = self.data\n",
    "    out = Value(math.exp(x), (self, ), \"exp\")\n",
    "\n",
    "    def _backward():\n",
    "      self.grad += out.data * out.grad\n",
    "      \n",
    "    out._backward = _backward\n",
    "    \n",
    "    return out\n",
    "  \n",
    "  def get_other(self, value):\n",
    "    return value if isinstance(value, Value) else Value(value)\n",
    "\n",
    "  def backward(self):\n",
    "    topo = []\n",
    "    visited = set()\n",
    "\n",
    "    def build_topo(v):\n",
    "      if v not in visited:\n",
    "        visited.add(v)\n",
    "        for child in v._prev:\n",
    "          build_topo(child)\n",
    "        topo.append(v)\n",
    "    \n",
    "    build_topo(self)\n",
    "\n",
    "    self.grad = 1\n",
    "    \n",
    "    for node in reversed(topo):\n",
    "      node._backward()\n",
    "\n",
    "    \n",
    "  \n",
    "a = Value(3)\n",
    "b = Value(4)\n",
    "c = Value(5)\n",
    "d = a * b\n",
    "e = d + c\n",
    "print(d)\n",
    "print(e)\n",
    "print(d._prev)\n",
    "print(e._prev)\n",
    "print(d.label)\n",
    "print(e.label)"
   ]
  },
  {
   "cell_type": "code",
   "execution_count": 6,
   "id": "07088a7e",
   "metadata": {},
   "outputs": [
    {
     "name": "stdout",
     "output_type": "stream",
     "text": [
      "4.000000002335469\n"
     ]
    }
   ],
   "source": [
    "def lol():\n",
    "  h = 0.0000001\n",
    "\n",
    "  a = Value(2, label=\"a\")\n",
    "  b = Value(-3, label=\"b\")\n",
    "  c = a * b; c.label = \"c\"\n",
    "  d = Value(10, label=\"d\")\n",
    "  e = c + d; e.label = \"e\"\n",
    "  f = Value(-2, label = \"f\")\n",
    "  L = e * f; L.label = \"L\"\n",
    "  L1 = L.data\n",
    "\n",
    "  a = Value(2, label=\"a\")\n",
    "  b = Value(-3, label=\"b\")\n",
    "  c = a * b; c.label = \"c\"\n",
    "  d = Value(10, label=\"d\")\n",
    "  e = c + d; e.label = \"e\"\n",
    "  f = Value(-2 + h, label = \"f\")\n",
    "  L = e * f; L.label = \"L\"\n",
    "  L2 = L.data\n",
    "\n",
    "  dLdx = (L2 - L1)/ h\n",
    "  print(dLdx)\n",
    "\n",
    "lol()"
   ]
  },
  {
   "cell_type": "code",
   "execution_count": 262,
   "id": "0448cf5d",
   "metadata": {},
   "outputs": [
    {
     "name": "stdout",
     "output_type": "stream",
     "text": [
      "Value(data = -7.286496)\n"
     ]
    }
   ],
   "source": [
    "# single optimization example\n",
    "\n",
    "# storing the gradients\n",
    "a = Value(2, label=\"a\")\n",
    "b = Value(-3, label=\"b\")\n",
    "c = a * b; c.label=\"c\"\n",
    "d = Value(10, label=\"d\")\n",
    "e = c + d; e.label=\"e\"\n",
    "f = Value(-2, label=\"f\")\n",
    "L = e * f; L.label=\"L\"\n",
    "\n",
    "a.grad = 6\n",
    "b.grad = -4\n",
    "c.grad = -2\n",
    "d.grad = -2\n",
    "e.grad = -2\n",
    "f.grad = 4\n",
    "L.grad = 1\n",
    "\n",
    "# This is just for a single dendrite (weight * input) on an ultimate output \n",
    "\n",
    "a.data += a.grad * 0.01\n",
    "b.data += b.grad * 0.01\n",
    "d.data += d.grad * 0.01\n",
    "f.data += f.grad * 0.01\n",
    "\n",
    "c = a * b\n",
    "e = c + d\n",
    "L = e * f\n",
    "\n",
    "print(L)\n"
   ]
  },
  {
   "cell_type": "code",
   "execution_count": 255,
   "id": "41f6eccc",
   "metadata": {},
   "outputs": [
    {
     "data": {
      "image/png": "[encoded data removed]",
      "text/plain": [
       "<Figure size 640x480 with 1 Axes>"
      ]
     },
     "metadata": {},
     "output_type": "display_data"
    }
   ],
   "source": [
    "# tanh activation function plot\n",
    "\n",
    "plt.plot(np.arange(-5,5,0.2), np.tanh(np.arange(-5,5,0.2))); plt.grid()"
   ]
  },
  {
   "cell_type": "code",
   "execution_count": 399,
   "id": "ab7bd003",
   "metadata": {},
   "outputs": [
    {
     "name": "stdout",
     "output_type": "stream",
     "text": [
      "Value(data = 0.8813735870195432) N\n",
      "Value(data = 0.7071067811865476) AN\n",
      "Value(data = 0.7071067811865476) AN2\n"
     ]
    }
   ],
   "source": [
    "# for an actual neuron, which has multiple dendrites (weight * input)\n",
    "\n",
    "#inputs\n",
    "x1 = Value(2, label=\"x1\")\n",
    "x2 = Value(0, label=\"x2\")\n",
    "\n",
    "# weights\n",
    "w1 = Value(-3, label=\"w1\")\n",
    "w2 = Value(1, label=\"w2\")\n",
    "\n",
    "#bias\n",
    "b = Value(6.8813735870195432, label=\"b\")\n",
    "\n",
    "#x1w1 + x2w2 + b\n",
    "x1w1 = x1 * w1; x1w1.label = \"x1w1\"\n",
    "x2w2 = x2 * w2; x2w2.label = \"x2w2\"\n",
    "x1w1x2w2 = x1w1 + x2w2; x1w1x2w2.label = \"x1w1x2w2\"\n",
    "n = x1w1x2w2 + b; n.label = \"n\"\n",
    "neg_n = n * -1\n",
    "an = (n.exp() - neg_n.exp()) / (n.exp() + neg_n.exp())\n",
    "an2 = n.tanh(); an.label = \"an\"\n",
    "print(n, \"N\")\n",
    "print(an, \"AN\")\n",
    "print(an2, \"AN2\")"
   ]
  },
  {
   "cell_type": "code",
   "execution_count": 397,
   "id": "8d853b6b",
   "metadata": {},
   "outputs": [
    {
     "name": "stdout",
     "output_type": "stream",
     "text": [
      "1 AN\n",
      "0.4999999999999999 N\n",
      "0.4999999999999999 X1W1X2W2\n",
      "0.4999999999999999 B\n",
      "0.4999999999999999 X1W1\n",
      "0.4999999999999999 X2W2\n",
      "-1.4999999999999996 X1\n",
      "0.9999999999999998 W1\n",
      "0.4999999999999999 X2\n",
      "0.0 W2\n"
     ]
    }
   ],
   "source": [
    "# # filling in neuron gradients\n",
    "\n",
    "# # n gradient with respect to tanh activation (calculation)\n",
    "# n_grad = 1 - an.data **2\n",
    "\n",
    "# use backward function to\n",
    "# 1. recursively add the children (DFS)\n",
    "# 2. take the reverse of that list to do backward gradient prop starting with parent\n",
    "\n",
    "an2.backward()\n",
    "print(an2.grad, \"AN\")\n",
    "print(n.grad, \"N\")\n",
    "print(x1w1x2w2.grad, \"X1W1X2W2\")\n",
    "print(b.grad, \"B\")\n",
    "print(x1w1.grad, \"X1W1\")\n",
    "print(x2w2.grad, \"X2W2\")\n",
    "print(x1.grad, \"X1\")\n",
    "print(w1.grad, \"W1\")\n",
    "print(x2.grad, \"X2\")\n",
    "print(w2.grad, \"W2\")\n",
    "\n",
    "# an.backward()\n",
    "# # check answers\n",
    "# print(an.grad, \"AN\")\n",
    "# print(n.grad, \"N\")\n",
    "# print(x1w1x2w2.grad, \"X1W1X2W2\")\n",
    "# print(b.grad, \"B\")\n",
    "# print(x1w1.grad, \"X1W1\")\n",
    "# print(x2w2.grad, \"X2W2\")\n",
    "# print(x1.grad, \"X1\")\n",
    "# print(w1.grad, \"W1\")\n",
    "# print(x2.grad, \"X2\")\n",
    "# print(w2.grad, \"W2\")"
   ]
  },
  {
   "cell_type": "code",
   "execution_count": 309,
   "id": "59ef52cb",
   "metadata": {},
   "outputs": [
    {
     "name": "stdout",
     "output_type": "stream",
     "text": [
      "f\n",
      "d\n",
      "e\n",
      "a\n",
      "b\n",
      "Value(data = -2.0) Value(data = 3.0) Value(data = -6.0) Value(data = 1.0) Value(data = -6.0)\n",
      "-3.0\n",
      "-8.0\n",
      "1.0\n",
      "-6.0\n",
      "1\n"
     ]
    }
   ],
   "source": [
    "a = Value(-2.0, label = 'a')\n",
    "b = Value(3.0, label = 'b')\n",
    "d = a * b; d.label = 'd'\n",
    "e = a + b; e.label = 'e'\n",
    "f = d * e; f.label = 'f'\n",
    "f.backward()\n",
    "print(a,b,d,e,f)\n",
    "\n",
    "print(a.grad)\n",
    "print(b.grad)\n",
    "print(d.grad)\n",
    "print(e.grad)\n",
    "print(f.grad)\n"
   ]
  },
  {
   "cell_type": "code",
   "execution_count": 615,
   "id": "884c1743",
   "metadata": {},
   "outputs": [
    {
     "name": "stdout",
     "output_type": "stream",
     "text": [
      "0.7071066904050358\n",
      "---\n",
      "x2 0.5000001283844369\n",
      "w2 0.0\n",
      "x1 -1.5000003851533106\n",
      "w1 1.0000002567688737\n"
     ]
    }
   ],
   "source": [
    "# Pytorch example\n",
    "import torch\n",
    "\n",
    "#requires gradient, default doesn't require for leaf nodes (inputs)\n",
    "x1 = torch.Tensor([2.0]).double(); x1.requires_grad = True\n",
    "x2 = torch.Tensor([0.0]).double(); x2.requires_grad = True\n",
    "w1 = torch.Tensor([-3.0]).double(); w1.requires_grad = True\n",
    "w2 = torch.Tensor([1.0]).double(); w2.requires_grad = True\n",
    "b = torch.Tensor([6.8813735870195432]); b.requires_grad = True\n",
    "n = x1*w1 + x2*w2 + b\n",
    "an = torch.tanh(n)\n",
    "\n",
    "print(an.data.item())\n",
    "an.backward()\n",
    "\n",
    "#similar flow a. create variables with equation then b. do output with grad 1 output.backward()\n",
    "\n",
    "print('---')\n",
    "print('x2', x2.grad.item())\n",
    "print('w2', w2.grad.item())\n",
    "print('x1', x1.grad.item())\n",
    "print('w1', w1.grad.item())"
   ]
  },
  {
   "cell_type": "code",
   "execution_count": null,
   "id": "98abf4dd",
   "metadata": {},
   "outputs": [],
   "source": [
    "torch.Tensor([1,2,3],[4,5,6])"
   ]
  },
  {
   "cell_type": "code",
   "execution_count": 7,
   "id": "bc8d7a5b",
   "metadata": {},
   "outputs": [],
   "source": [
    "import random\n",
    "\n",
    "class Neuron:\n",
    "  def __init__(self, nin):\n",
    "    self.w = [Value(random.uniform(-1, 1)) for _ in range(nin)]\n",
    "    self.b = Value(random.uniform(-1, 1))\n",
    "\n",
    "  def __call__(self, x):\n",
    "    act = sum((wi * xi for wi, xi in list(zip(self.w, x))), self.b)\n",
    "    out = act.tanh()\n",
    "    return out\n",
    "  \n",
    "  def parameters(self):\n",
    "    return self.w + [self.b]\n",
    "  \n",
    "class Layer:\n",
    "  def __init__(self, nin, nout):\n",
    "    self.neurons = [Neuron(nin) for _ in range(nout)]\n",
    "\n",
    "  def __call__(self, x):\n",
    "    outs = [n(x)for n in self.neurons]\n",
    "    return outs[0] if len(outs) == 1 else outs\n",
    "  \n",
    "  def parameters(self):\n",
    "    return[p for neuron in self.neurons for p in neuron.parameters()]\n",
    "\n",
    "class MLP:\n",
    "  def __init__(self, nin, nouts):\n",
    "    sz = [nin] + nouts\n",
    "    self.layers = [Layer(sz[i], sz[i + 1]) for i in range(len(nouts))]\n",
    "\n",
    "  def __call__(self, x):\n",
    "    for layer in self.layers:\n",
    "      x = layer(x)\n",
    "    return x\n",
    "  \n",
    "  def parameters(self):\n",
    "    return [p for layer in self.layers for p in layer.parameters()]"
   ]
  },
  {
   "cell_type": "code",
   "execution_count": 25,
   "id": "27c81cd6",
   "metadata": {},
   "outputs": [],
   "source": [
    "xs = [\n",
    "  [2.0, 3.0, -1.0],\n",
    "  [3.0, -1.0, 0.5],\n",
    "  [0.5, 1.0, 1.0],\n",
    "  [1.0, 1.0, -1.0],\n",
    "]\n",
    "ys = [[1.0, 2.0], [-1.0, -2.0], [-1.0, -2.0], [1.0, 2.0]]"
   ]
  },
  {
   "cell_type": "code",
   "execution_count": 36,
   "id": "8591281d",
   "metadata": {},
   "outputs": [
    {
     "name": "stdout",
     "output_type": "stream",
     "text": [
      "[Value(data = 0.9976126311044018), Value(data = -0.722589418400989), Value(data = 0.9846426654200576), Value(data = -0.9792570651396703)]\n"
     ]
    },
    {
     "data": {
      "text/plain": [
       "[Value(data = 0.5256324088316349), Value(data = -0.1342937468820054)]"
      ]
     },
     "execution_count": 36,
     "metadata": {},
     "output_type": "execute_result"
    }
   ],
   "source": [
    "# Instantiating the multi layer perceptron\n",
    "\n",
    "# 3 inputs \n",
    "x = [2.0, 3.0, -1.0]\n",
    "\n",
    "# Layer takes in 3 inputs (instantiate weights), and has 4 output nodes\n",
    "layer = Layer(3, 4)\n",
    "l = layer(x)\n",
    "print(l)\n",
    "\n",
    "# MLP has 3 input nodes, and an array of other layers lengths\n",
    "# x is taken and fed through each layer with in/out lengths (3,4), (4,4), (4,1)\n",
    "mlp = MLP(3, [4, 4, 2])\n",
    "mlp(x)"
   ]
  },
  {
   "cell_type": "code",
   "execution_count": 10,
   "id": "0ecc5106",
   "metadata": {},
   "outputs": [
    {
     "data": {
      "text/plain": [
       "Value(data = 5.344995593266024)"
      ]
     },
     "execution_count": 10,
     "metadata": {},
     "output_type": "execute_result"
    }
   ],
   "source": [
    "# loss function - sum of (y pred - y actual) ^ 2\n",
    "ypred = [mlp(x) for x in xs]\n",
    "loss = sum((yout - ygt) ** 2 for ygt, yout in zip(ys, ypred))\n",
    "loss"
   ]
  },
  {
   "cell_type": "code",
   "execution_count": 11,
   "id": "a233fc69",
   "metadata": {},
   "outputs": [
    {
     "name": "stdout",
     "output_type": "stream",
     "text": [
      "0.0 should be 0\n",
      "0.03779550113893923 should not be 0\n"
     ]
    }
   ],
   "source": [
    "# fills in all gradients\n",
    "# weight should have gradient 0\n",
    "w1g_empty = mlp.layers[0].neurons[0].w[0].grad\n",
    "print(w1g_empty, \"should be 0\")\n",
    "\n",
    "# runs backward propagation from outputs loss function loss > 4 mlp outs > all layer (output, hidden) forward prop x * w + b functions \n",
    "loss.backward()\n",
    "\n",
    "# should have gradient not 0\n",
    "w1g_filled = mlp.layers[0].neurons[0].w[0].grad\n",
    "print(w1g_filled, \"should not be 0\")"
   ]
  },
  {
   "cell_type": "code",
   "execution_count": 13,
   "id": "a6a7e076",
   "metadata": {},
   "outputs": [
    {
     "name": "stdout",
     "output_type": "stream",
     "text": [
      "[Value(data = 0.2775305545397597), Value(data = 0.719044364294259), Value(data = -0.6872440000755566)] Value(data = -0.6079424679035419) weights and bias of first neuron of first layer\n",
      "41\n"
     ]
    }
   ],
   "source": [
    "# you can see that the mlp has weights and biases for specific neurons\n",
    "w11 = mlp.layers[0].neurons[0].w\n",
    "b11 = mlp.layers[0].neurons[0].b\n",
    "print(w11, b11, \"weights and bias of first neuron of first layer\")\n",
    "\n",
    "# looks at all the weights and biases of a neural networks\n",
    "params = mlp.parameters()\n",
    "\n",
    "# 41 parameters (3 * 4 weights + 4 * 4 weights + 4 * 1 weights + (4 + 4 + 1) biases)\n",
    "print(len(mlp.parameters()))"
   ]
  },
  {
   "cell_type": "code",
   "execution_count": 14,
   "id": "6febc30b",
   "metadata": {},
   "outputs": [],
   "source": [
    "# nudge all the parameters (value.data) by 0.01 learning rate * gradient (value.grad)\n",
    "\n",
    "for p in mlp.parameters():\n",
    "  p.data += -0.01 * p.grad"
   ]
  },
  {
   "cell_type": "code",
   "execution_count": 15,
   "id": "ee4eceb2",
   "metadata": {},
   "outputs": [
    {
     "name": "stdout",
     "output_type": "stream",
     "text": [
      "Value(data = 4.578112589760119) LOSS\n",
      "[Value(data = -0.5250897089949224), Value(data = -0.6930262054536974), Value(data = -0.6457108288899971), Value(data = -0.42564379912162253)] predictions\n"
     ]
    }
   ],
   "source": [
    "# calculate loss again and it should have gone down\n",
    "# you can keep adjusting weights by gradient to decrease loss\n",
    "\n",
    "ypred = [mlp(x) for x in xs]\n",
    "loss = sum((yout - ygt) ** 2 for ygt, yout in zip(ys, ypred))\n",
    "print(loss, \"LOSS\")\n",
    "print(ypred, \"predictions\")\n"
   ]
  },
  {
   "cell_type": "code",
   "execution_count": null,
   "id": "a1dc0716",
   "metadata": {},
   "outputs": [
    {
     "name": "stdout",
     "output_type": "stream",
     "text": [
      "0.5106118800663055\n",
      "0.5105569606569892\n",
      "0.5105026018597989\n",
      "0.5104487951843404\n",
      "0.5103955323101035\n",
      "0.510342805082248\n",
      "0.5102906055075124\n",
      "0.5102389257502439\n",
      "0.510187758128546\n",
      "0.510137095110535\n",
      "0.5100869293107079\n",
      "0.5100372534864142\n",
      "0.5099880605344287\n",
      "0.509939343487623\n",
      "0.50989109551173\n",
      "0.5098433099022028\n",
      "0.5097959800811593\n",
      "0.5097490995944148\n",
      "0.5097026621085956\n",
      "0.509656661408334\n",
      "0.509611091393541\n",
      "0.5095659460767529\n",
      "0.5095212195805527\n",
      "0.5094769061350592\n",
      "0.5094330000754876\n",
      "0.5093894958397727\n",
      "0.5093463879662586\n",
      "0.50930367109145\n",
      "0.5092613399478215\n",
      "0.5092193893616885\n",
      "0.5091778142511316\n",
      "0.5091366096239769\n",
      "0.5090957705758297\n",
      "0.5090552922881578\n",
      "0.5090151700264274\n",
      "0.5089753991382848\n",
      "0.5089359750517862\n",
      "0.508896893273673\n",
      "0.5088581493876905\n",
      "0.5088197390529503\n",
      "0.5087816580023332\n",
      "0.5087439020409343\n",
      "0.5087064670445443\n",
      "0.5086693489581722\n",
      "0.5086325437946013\n",
      "0.5085960476329847\n",
      "0.508559856617473\n",
      "0.5085239669558765\n",
      "0.5084883749183605\n",
      "0.5084530768361724\n",
      "0.5084180691003994\n",
      "0.5083833481607573\n",
      "0.5083489105244072\n",
      "0.5083147527548018\n",
      "0.5082808714705587\n",
      "0.5082472633443611\n",
      "0.5082139251018842\n",
      "0.5081808535207467\n",
      "0.5081480454294887\n",
      "0.5081154977065707\n",
      "0.5080832072793993\n",
      "0.5080511711233738\n",
      "0.5080193862609541\n",
      "0.5079878497607527\n",
      "0.5079565587366455\n",
      "0.5079255103469039\n",
      "0.5078947017933465\n",
      "0.5078641303205106\n",
      "0.5078337932148412\n",
      "0.5078036878039011\n",
      "0.5077738114555945\n",
      "0.5077441615774132\n",
      "0.5077147356156952\n",
      "0.5076855310549018\n",
      "0.5076565454169114\n",
      "0.5076277762603277\n",
      "0.5075992211798033\n",
      "0.5075708778053787\n",
      "0.5075427438018354\n",
      "0.5075148168680637\n",
      "0.5074870947364423\n",
      "0.5074595751722347\n",
      "0.5074322559729956\n",
      "0.5074051349679911\n",
      "0.5073782100176318\n",
      "0.5073514790129172\n",
      "0.5073249398748929\n",
      "0.5072985905541177\n",
      "0.5072724290301447\n",
      "0.5072464533110097\n",
      "0.5072206614327329\n",
      "0.5071950514588316\n",
      "0.5071696214798393\n",
      "0.5071443696128402\n",
      "0.507119294001008\n",
      "0.5070943928131578\n",
      "0.507069664243306\n",
      "0.5070451065102393\n",
      "0.5070207178570918\n",
      "0.5069964965509324\n",
      "0.5069724408823586\n",
      "0.5069485491651001\n",
      "0.5069248197356296\n",
      "0.5069012509527812\n",
      "0.5068778411973769\n",
      "0.5068545888718613\n",
      "0.506831492399941\n",
      "0.5068085502262346\n",
      "0.5067857608159267\n",
      "0.5067631226544302\n",
      "0.5067406342470553\n",
      "0.5067182941186841\n",
      "0.5066961008134514\n",
      "0.5066740528944342\n",
      "0.5066521489433435\n",
      "0.5066303875602248\n",
      "0.506608767363163\n",
      "0.5065872869879937\n",
      "0.50656594508802\n",
      "0.5065447403337338\n",
      "0.5065236714125432\n",
      "0.5065027370285053\n",
      "0.5064819359020636\n",
      "0.5064612667697894\n",
      "0.5064407283841308\n",
      "0.5064203195131627\n",
      "0.5064000389403452\n",
      "0.5063798854642836\n",
      "0.5063598578984941\n",
      "0.5063399550711739\n",
      "0.5063201758249752\n",
      "0.5063005190167836\n",
      "0.5062809835175004\n",
      "0.5062615682118288\n",
      "0.5062422719980637\n",
      "0.5062230937878871\n",
      "0.506204032506164\n",
      "0.5061850870907454\n",
      "0.506166256492272\n",
      "0.5061475396739836\n",
      "0.5061289356115306\n",
      "0.5061104432927888\n",
      "0.5060920617176792\n",
      "0.5060737898979879\n",
      "0.5060556268571926\n",
      "0.5060375716302904\n",
      "0.5060196232636274\n",
      "0.5060017808147347\n",
      "0.5059840433521635\n",
      "0.5059664099553257\n",
      "0.5059488797143366\n",
      "0.5059314517298591\n",
      "0.5059141251129533\n",
      "0.5058968989849248\n",
      "0.50587977247718\n",
      "0.50586274473108\n",
      "0.5058458148977996\n",
      "0.5058289821381873\n",
      "0.5058122456226286\n",
      "0.5057956045309114\n",
      "0.5057790580520919\n",
      "0.5057626053843665\n",
      "0.5057462457349418\n",
      "0.50572997831991\n",
      "0.5057138023641238\n",
      "0.5056977171010759\n",
      "0.5056817217727778\n",
      "0.5056658156296434\n",
      "0.5056499979303721\n",
      "0.5056342679418351\n",
      "0.5056186249389639\n",
      "0.5056030682046392\n",
      "0.5055875970295831\n",
      "0.5055722107122518\n",
      "0.5055569085587317\n",
      "0.505541689882635\n",
      "0.505526554004999\n",
      "0.5055115002541855\n",
      "0.5054965279657833\n",
      "0.5054816364825102\n",
      "0.5054668251541192\n",
      "0.5054520933373042\n",
      "0.5054374403956077\n",
      "0.5054228656993296\n",
      "0.5054083686254396\n",
      "0.5053939485574873\n",
      "0.505379604885517\n",
      "0.5053653370059822\n",
      "0.5053511443216617\n",
      "0.5053370262415772\n",
      "0.5053229821809122\n",
      "0.5053090115609317\n",
      "0.505295113808904\n",
      "0.5052812883580228\n",
      "0.505267534647331\n",
      "0.5052538521216459\n",
      "0.5052402402314848\n",
      "0.5052266984329923\n",
      "0.5052132261878686\n",
      "0.505199822963299\n"
     ]
    }
   ],
   "source": [
    "# actual training loop\n",
    "\n",
    "for k in range(200):\n",
    "  # forward pass\n",
    "  ypred = [mlp(x) for x in xs]\n",
    "\n",
    "  loss = sum((yout - ygt) ** 2 for ygt, yout in zip(ys, ypred))\n",
    "\n",
    "  # backward pass\n",
    "  # we need to zero the gradients every time we do backward pass to calculate new gradients with new params, but same\n",
    "  for p in mlp.parameters():\n",
    "    p.grad = 0.0\n",
    "  loss.backward()\n",
    "\n",
    "  #update\n",
    "  for p in mlp.parameters():\n",
    "    p.data += -.05 * p.grad\n",
    "\n",
    "  print(loss.data)"
   ]
  }
 ],
 "metadata": {
  "kernelspec": {
   "display_name": "Python 3",
   "language": "python",
   "name": "python3"
  },
  "language_info": {
   "codemirror_mode": {
    "name": "ipython",
    "version": 3
   },
   "file_extension": ".py",
   "mimetype": "text/x-python",
   "name": "python",
   "nbconvert_exporter": "python",
   "pygments_lexer": "ipython3",
   "version": "3.13.3"
  }
 },
 "nbformat": 4,
 "nbformat_minor": 5
}
